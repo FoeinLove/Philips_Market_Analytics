{
 "cells": [
  {
   "cell_type": "markdown",
   "metadata": {},
   "source": [
    "# 1. Some customers didn't write a review. But why are  they happy or dissatisfied?"
   ]
  },
  {
   "cell_type": "code",
   "execution_count": 1,
   "metadata": {},
   "outputs": [
    {
     "data": {
      "text/html": [
       "<div>\n",
       "<style scoped>\n",
       "    .dataframe tbody tr th:only-of-type {\n",
       "        vertical-align: middle;\n",
       "    }\n",
       "\n",
       "    .dataframe tbody tr th {\n",
       "        vertical-align: top;\n",
       "    }\n",
       "\n",
       "    .dataframe thead th {\n",
       "        text-align: right;\n",
       "    }\n",
       "</style>\n",
       "<table border=\"1\" class=\"dataframe\">\n",
       "  <thead>\n",
       "    <tr style=\"text-align: right;\">\n",
       "      <th></th>\n",
       "      <th>review_id</th>\n",
       "      <th>order_id</th>\n",
       "      <th>review_score</th>\n",
       "      <th>review_comment_title</th>\n",
       "      <th>review_comment_message</th>\n",
       "      <th>review_creation_date</th>\n",
       "      <th>review_answer_timestamp</th>\n",
       "    </tr>\n",
       "  </thead>\n",
       "  <tbody>\n",
       "    <tr>\n",
       "      <th>0</th>\n",
       "      <td>7bc2406110b926393aa56f80a40eba40</td>\n",
       "      <td>73fc7af87114b39712e6da79b0a377eb</td>\n",
       "      <td>4</td>\n",
       "      <td>NaN</td>\n",
       "      <td>NaN</td>\n",
       "      <td>2018-01-18 00:00:00</td>\n",
       "      <td>2018-01-18 21:46:59</td>\n",
       "    </tr>\n",
       "    <tr>\n",
       "      <th>1</th>\n",
       "      <td>80e641a11e56f04c1ad469d5645fdfde</td>\n",
       "      <td>a548910a1c6147796b98fdf73dbeba33</td>\n",
       "      <td>5</td>\n",
       "      <td>NaN</td>\n",
       "      <td>NaN</td>\n",
       "      <td>2018-03-10 00:00:00</td>\n",
       "      <td>2018-03-11 03:05:13</td>\n",
       "    </tr>\n",
       "    <tr>\n",
       "      <th>2</th>\n",
       "      <td>228ce5500dc1d8e020d8d1322874b6f0</td>\n",
       "      <td>f9e4b658b201a9f2ecdecbb34bed034b</td>\n",
       "      <td>5</td>\n",
       "      <td>NaN</td>\n",
       "      <td>NaN</td>\n",
       "      <td>2018-02-17 00:00:00</td>\n",
       "      <td>2018-02-18 14:36:24</td>\n",
       "    </tr>\n",
       "    <tr>\n",
       "      <th>3</th>\n",
       "      <td>e64fb393e7b32834bb789ff8bb30750e</td>\n",
       "      <td>658677c97b385a9be170737859d3511b</td>\n",
       "      <td>5</td>\n",
       "      <td>NaN</td>\n",
       "      <td>Recebi bem antes do prazo estipulado.</td>\n",
       "      <td>2017-04-21 00:00:00</td>\n",
       "      <td>2017-04-21 22:02:06</td>\n",
       "    </tr>\n",
       "    <tr>\n",
       "      <th>4</th>\n",
       "      <td>f7c4243c7fe1938f181bec41a392bdeb</td>\n",
       "      <td>8e6bfb81e283fa7e4f11123a3fb894f1</td>\n",
       "      <td>5</td>\n",
       "      <td>NaN</td>\n",
       "      <td>Parabéns lojas lannister adorei comprar pela Internet seguro e prático Parabéns a todos feliz Páscoa</td>\n",
       "      <td>2018-03-01 00:00:00</td>\n",
       "      <td>2018-03-02 10:26:53</td>\n",
       "    </tr>\n",
       "  </tbody>\n",
       "</table>\n",
       "</div>"
      ],
      "text/plain": [
       "                          review_id                          order_id  \\\n",
       "0  7bc2406110b926393aa56f80a40eba40  73fc7af87114b39712e6da79b0a377eb   \n",
       "1  80e641a11e56f04c1ad469d5645fdfde  a548910a1c6147796b98fdf73dbeba33   \n",
       "2  228ce5500dc1d8e020d8d1322874b6f0  f9e4b658b201a9f2ecdecbb34bed034b   \n",
       "3  e64fb393e7b32834bb789ff8bb30750e  658677c97b385a9be170737859d3511b   \n",
       "4  f7c4243c7fe1938f181bec41a392bdeb  8e6bfb81e283fa7e4f11123a3fb894f1   \n",
       "\n",
       "   review_score review_comment_title  \\\n",
       "0             4                  NaN   \n",
       "1             5                  NaN   \n",
       "2             5                  NaN   \n",
       "3             5                  NaN   \n",
       "4             5                  NaN   \n",
       "\n",
       "                                                                                 review_comment_message  \\\n",
       "0                                                                                                   NaN   \n",
       "1                                                                                                   NaN   \n",
       "2                                                                                                   NaN   \n",
       "3                                                                 Recebi bem antes do prazo estipulado.   \n",
       "4  Parabéns lojas lannister adorei comprar pela Internet seguro e prático Parabéns a todos feliz Páscoa   \n",
       "\n",
       "  review_creation_date review_answer_timestamp  \n",
       "0  2018-01-18 00:00:00     2018-01-18 21:46:59  \n",
       "1  2018-03-10 00:00:00     2018-03-11 03:05:13  \n",
       "2  2018-02-17 00:00:00     2018-02-18 14:36:24  \n",
       "3  2017-04-21 00:00:00     2017-04-21 22:02:06  \n",
       "4  2018-03-01 00:00:00     2018-03-02 10:26:53  "
      ]
     },
     "execution_count": 1,
     "metadata": {},
     "output_type": "execute_result"
    }
   ],
   "source": [
    "import pandas as pd\n",
    "pd.set_option('max_colwidth',200)\n",
    "reviews = pd.read_csv('order_reviews.csv')\n",
    "reviews.head()"
   ]
  },
  {
   "cell_type": "code",
   "execution_count": 2,
   "metadata": {},
   "outputs": [
    {
     "data": {
      "text/plain": [
       "((100000, 7), (100000, 7))"
      ]
     },
     "execution_count": 2,
     "metadata": {},
     "output_type": "execute_result"
    }
   ],
   "source": [
    "reviews.shape,reviews.drop_duplicates().shape"
   ]
  },
  {
   "cell_type": "markdown",
   "metadata": {},
   "source": [
    "we got 100000 examples total with no duplicate examples"
   ]
  },
  {
   "cell_type": "code",
   "execution_count": 3,
   "metadata": {},
   "outputs": [
    {
     "data": {
      "text/plain": [
       "review_id                  object\n",
       "order_id                   object\n",
       "review_score                int64\n",
       "review_comment_title       object\n",
       "review_comment_message     object\n",
       "review_creation_date       object\n",
       "review_answer_timestamp    object\n",
       "dtype: object"
      ]
     },
     "execution_count": 3,
     "metadata": {},
     "output_type": "execute_result"
    }
   ],
   "source": [
    "# get to know types of each columns\n",
    "reviews.dtypes"
   ]
  },
  {
   "cell_type": "code",
   "execution_count": 4,
   "metadata": {},
   "outputs": [
    {
     "data": {
      "text/plain": [
       "array([4, 5, 1, 3, 2])"
      ]
     },
     "execution_count": 4,
     "metadata": {},
     "output_type": "execute_result"
    }
   ],
   "source": [
    "reviews['review_score'].unique()"
   ]
  },
  {
   "cell_type": "code",
   "execution_count": 5,
   "metadata": {},
   "outputs": [
    {
     "data": {
      "text/plain": [
       "count    100000.000000\n",
       "mean          4.070890\n",
       "std           1.359663\n",
       "min           1.000000\n",
       "25%           4.000000\n",
       "50%           5.000000\n",
       "75%           5.000000\n",
       "max           5.000000\n",
       "Name: review_score, dtype: float64"
      ]
     },
     "execution_count": 5,
     "metadata": {},
     "output_type": "execute_result"
    }
   ],
   "source": [
    "reviews['review_score'].describe()"
   ]
  },
  {
   "cell_type": "code",
   "execution_count": 6,
   "metadata": {},
   "outputs": [
    {
     "data": {
      "text/plain": [
       "review_score\n",
       "1    11858\n",
       "2     3235\n",
       "3     8287\n",
       "4    19200\n",
       "5    57420\n",
       "Name: review_id, dtype: int64"
      ]
     },
     "execution_count": 6,
     "metadata": {},
     "output_type": "execute_result"
    }
   ],
   "source": [
    "reviews.groupby('review_score')['review_id'].count()"
   ]
  },
  {
   "cell_type": "code",
   "execution_count": 7,
   "metadata": {},
   "outputs": [
    {
     "data": {
      "text/plain": [
       "review_score\n",
       "1    11858\n",
       "2     3235\n",
       "3     8287\n",
       "4    19200\n",
       "5    57420\n",
       "Name: order_id, dtype: int64"
      ]
     },
     "execution_count": 7,
     "metadata": {},
     "output_type": "execute_result"
    }
   ],
   "source": [
    "reviews.groupby('review_score')['order_id'].count()"
   ]
  },
  {
   "cell_type": "raw",
   "metadata": {},
   "source": [
    "we got review_score range from 1 to 5 with a mean of 4;\n",
    "57420 customers give 5 score,19200 give 4 ,11858 give 1 score which we need to really focus their comment messages that leads to dissatisfied.\n",
    "Then we got 8287 customers give 3 and 3235 give 2 score.\n",
    "Suppose score 5,4 respond to be happy, and 1,2,3 respond to unsatisfied."
   ]
  },
  {
   "cell_type": "code",
   "execution_count": 8,
   "metadata": {},
   "outputs": [
    {
     "data": {
      "text/html": [
       "<div>\n",
       "<style scoped>\n",
       "    .dataframe tbody tr th:only-of-type {\n",
       "        vertical-align: middle;\n",
       "    }\n",
       "\n",
       "    .dataframe tbody tr th {\n",
       "        vertical-align: top;\n",
       "    }\n",
       "\n",
       "    .dataframe thead th {\n",
       "        text-align: right;\n",
       "    }\n",
       "</style>\n",
       "<table border=\"1\" class=\"dataframe\">\n",
       "  <thead>\n",
       "    <tr style=\"text-align: right;\">\n",
       "      <th></th>\n",
       "      <th>review_id</th>\n",
       "      <th>order_id</th>\n",
       "      <th>review_score</th>\n",
       "      <th>review_comment_title</th>\n",
       "      <th>review_comment_message</th>\n",
       "      <th>review_creation_date</th>\n",
       "      <th>review_answer_timestamp</th>\n",
       "    </tr>\n",
       "  </thead>\n",
       "  <tbody>\n",
       "    <tr>\n",
       "      <th>16266</th>\n",
       "      <td>b5da8c372f190911d1218077c3e432cf</td>\n",
       "      <td>9a965cd710da5125076afbd641624600</td>\n",
       "      <td>5</td>\n",
       "      <td>NaN</td>\n",
       "      <td>NaN</td>\n",
       "      <td>2017-05-24 00:00:00</td>\n",
       "      <td>2017-05-27 20:58:18</td>\n",
       "    </tr>\n",
       "    <tr>\n",
       "      <th>75358</th>\n",
       "      <td>072133dc43d0fd76a78b665fa716b140</td>\n",
       "      <td>37e1d9b8fc877b2c60bf51d2c4d8dbc6</td>\n",
       "      <td>5</td>\n",
       "      <td>NaN</td>\n",
       "      <td>Bom prazo de entrega</td>\n",
       "      <td>2018-01-10 00:00:00</td>\n",
       "      <td>2018-01-13 02:13:45</td>\n",
       "    </tr>\n",
       "    <tr>\n",
       "      <th>58637</th>\n",
       "      <td>63272ba8a58647be696ae623e380f811</td>\n",
       "      <td>a10dfacbf1c8bc9c9e9591f60102bdef</td>\n",
       "      <td>1</td>\n",
       "      <td>Pessimo</td>\n",
       "      <td>Nunca mais vou comprar pelas lojas lannister</td>\n",
       "      <td>2018-08-15 00:00:00</td>\n",
       "      <td>2018-08-15 15:23:00</td>\n",
       "    </tr>\n",
       "    <tr>\n",
       "      <th>83040</th>\n",
       "      <td>dc5cdb59f1ee3eba8daa43c6c3486353</td>\n",
       "      <td>30647325eed2f0ac046e27a3cb6b76fc</td>\n",
       "      <td>5</td>\n",
       "      <td>NaN</td>\n",
       "      <td>foi otimo ser atendida por vcs ,veio no prazo certo e é um otimo produto muito obrigado</td>\n",
       "      <td>2017-03-11 00:00:00</td>\n",
       "      <td>2017-03-22 10:48:53</td>\n",
       "    </tr>\n",
       "    <tr>\n",
       "      <th>90499</th>\n",
       "      <td>34284dd3e90baa1e4c25c26fc380b87b</td>\n",
       "      <td>48c3b4aae43bbf8e6929c347112cba89</td>\n",
       "      <td>5</td>\n",
       "      <td>NaN</td>\n",
       "      <td>NaN</td>\n",
       "      <td>2017-12-12 00:00:00</td>\n",
       "      <td>2017-12-15 12:09:46</td>\n",
       "    </tr>\n",
       "    <tr>\n",
       "      <th>59668</th>\n",
       "      <td>b4a147c05372e3ffa8aac9da627950e1</td>\n",
       "      <td>34a9f5d9dc692eef97911d47564b1af1</td>\n",
       "      <td>3</td>\n",
       "      <td>NaN</td>\n",
       "      <td>NaN</td>\n",
       "      <td>2017-06-20 00:00:00</td>\n",
       "      <td>2017-06-21 00:12:42</td>\n",
       "    </tr>\n",
       "    <tr>\n",
       "      <th>96006</th>\n",
       "      <td>ac97c5912defd76672146f1cc8d11498</td>\n",
       "      <td>1fb40f920a832437e543e136c7a8b050</td>\n",
       "      <td>5</td>\n",
       "      <td>NaN</td>\n",
       "      <td>NaN</td>\n",
       "      <td>2018-07-27 00:00:00</td>\n",
       "      <td>2018-07-28 03:14:11</td>\n",
       "    </tr>\n",
       "    <tr>\n",
       "      <th>18878</th>\n",
       "      <td>c3682d2306d35a08c131aa228bb3ef2e</td>\n",
       "      <td>c870c1f3a9ba62194d1060c0accb18dd</td>\n",
       "      <td>4</td>\n",
       "      <td>NaN</td>\n",
       "      <td>NaN</td>\n",
       "      <td>2017-02-02 00:00:00</td>\n",
       "      <td>2017-02-04 08:19:08</td>\n",
       "    </tr>\n",
       "    <tr>\n",
       "      <th>51510</th>\n",
       "      <td>25b5083f478c1c2c328861ed577331ca</td>\n",
       "      <td>b19b0d1dcf07ad7d58c75f45e9744ba5</td>\n",
       "      <td>5</td>\n",
       "      <td>NaN</td>\n",
       "      <td>Meu filho amou a mochila... Perfeita..e melhor ainda chegou justo no aniversário dele.</td>\n",
       "      <td>2017-10-15 01:00:00</td>\n",
       "      <td>2017-10-15 19:38:22</td>\n",
       "    </tr>\n",
       "    <tr>\n",
       "      <th>17743</th>\n",
       "      <td>d6de7b5b09aec7945e550724ca520b37</td>\n",
       "      <td>3e555879d29880ec5bc189b44a6d77fa</td>\n",
       "      <td>5</td>\n",
       "      <td>NaN</td>\n",
       "      <td>NaN</td>\n",
       "      <td>2017-03-14 00:00:00</td>\n",
       "      <td>2017-03-15 07:26:45</td>\n",
       "    </tr>\n",
       "  </tbody>\n",
       "</table>\n",
       "</div>"
      ],
      "text/plain": [
       "                              review_id                          order_id  \\\n",
       "16266  b5da8c372f190911d1218077c3e432cf  9a965cd710da5125076afbd641624600   \n",
       "75358  072133dc43d0fd76a78b665fa716b140  37e1d9b8fc877b2c60bf51d2c4d8dbc6   \n",
       "58637  63272ba8a58647be696ae623e380f811  a10dfacbf1c8bc9c9e9591f60102bdef   \n",
       "83040  dc5cdb59f1ee3eba8daa43c6c3486353  30647325eed2f0ac046e27a3cb6b76fc   \n",
       "90499  34284dd3e90baa1e4c25c26fc380b87b  48c3b4aae43bbf8e6929c347112cba89   \n",
       "59668  b4a147c05372e3ffa8aac9da627950e1  34a9f5d9dc692eef97911d47564b1af1   \n",
       "96006  ac97c5912defd76672146f1cc8d11498  1fb40f920a832437e543e136c7a8b050   \n",
       "18878  c3682d2306d35a08c131aa228bb3ef2e  c870c1f3a9ba62194d1060c0accb18dd   \n",
       "51510  25b5083f478c1c2c328861ed577331ca  b19b0d1dcf07ad7d58c75f45e9744ba5   \n",
       "17743  d6de7b5b09aec7945e550724ca520b37  3e555879d29880ec5bc189b44a6d77fa   \n",
       "\n",
       "       review_score review_comment_title  \\\n",
       "16266             5                  NaN   \n",
       "75358             5                  NaN   \n",
       "58637             1              Pessimo   \n",
       "83040             5                  NaN   \n",
       "90499             5                  NaN   \n",
       "59668             3                  NaN   \n",
       "96006             5                  NaN   \n",
       "18878             4                  NaN   \n",
       "51510             5                  NaN   \n",
       "17743             5                  NaN   \n",
       "\n",
       "                                                                        review_comment_message  \\\n",
       "16266                                                                                      NaN   \n",
       "75358                                                                     Bom prazo de entrega   \n",
       "58637                                            Nunca mais vou comprar pelas lojas lannister    \n",
       "83040  foi otimo ser atendida por vcs ,veio no prazo certo e é um otimo produto muito obrigado   \n",
       "90499                                                                                      NaN   \n",
       "59668                                                                                      NaN   \n",
       "96006                                                                                      NaN   \n",
       "18878                                                                                      NaN   \n",
       "51510   Meu filho amou a mochila... Perfeita..e melhor ainda chegou justo no aniversário dele.   \n",
       "17743                                                                                      NaN   \n",
       "\n",
       "      review_creation_date review_answer_timestamp  \n",
       "16266  2017-05-24 00:00:00     2017-05-27 20:58:18  \n",
       "75358  2018-01-10 00:00:00     2018-01-13 02:13:45  \n",
       "58637  2018-08-15 00:00:00     2018-08-15 15:23:00  \n",
       "83040  2017-03-11 00:00:00     2017-03-22 10:48:53  \n",
       "90499  2017-12-12 00:00:00     2017-12-15 12:09:46  \n",
       "59668  2017-06-20 00:00:00     2017-06-21 00:12:42  \n",
       "96006  2018-07-27 00:00:00     2018-07-28 03:14:11  \n",
       "18878  2017-02-02 00:00:00     2017-02-04 08:19:08  \n",
       "51510  2017-10-15 01:00:00     2017-10-15 19:38:22  \n",
       "17743  2017-03-14 00:00:00     2017-03-15 07:26:45  "
      ]
     },
     "execution_count": 8,
     "metadata": {},
     "output_type": "execute_result"
    }
   ],
   "source": [
    "reviews.sample(10)"
   ]
  },
  {
   "cell_type": "markdown",
   "metadata": {},
   "source": [
    "let's take a look at 10 random sample examples.\n",
    "\n",
    "we can see that both the 'review_comment_title'& 'review_comment_message' contains null values.\n",
    "If we want to know why they are happy or dissatisfied,we need to take ['review_score','review_comment_title','review_comment_message','review_creation_date','review_answer_timestamp'] into consideration"
   ]
  },
  {
   "cell_type": "code",
   "execution_count": 9,
   "metadata": {},
   "outputs": [],
   "source": [
    "reviews = reviews[['review_score','review_comment_title','review_comment_message','review_creation_date','review_answer_timestamp']].drop_duplicates().dropna()"
   ]
  },
  {
   "cell_type": "code",
   "execution_count": 10,
   "metadata": {},
   "outputs": [
    {
     "data": {
      "text/plain": [
       "review_score               9944\n",
       "review_comment_title       9944\n",
       "review_comment_message     9944\n",
       "review_creation_date       9944\n",
       "review_answer_timestamp    9944\n",
       "dtype: int64"
      ]
     },
     "execution_count": 10,
     "metadata": {},
     "output_type": "execute_result"
    }
   ],
   "source": [
    "reviews.count()"
   ]
  },
  {
   "cell_type": "markdown",
   "metadata": {},
   "source": [
    "we got a review dataset of 9944 examples with no NaN values"
   ]
  },
  {
   "cell_type": "code",
   "execution_count": 20,
   "metadata": {},
   "outputs": [
    {
     "data": {
      "text/plain": [
       "review_score                int64\n",
       "review_comment_title       object\n",
       "review_comment_message     object\n",
       "review_creation_date       object\n",
       "review_answer_timestamp    object\n",
       "dtype: object"
      ]
     },
     "execution_count": 20,
     "metadata": {},
     "output_type": "execute_result"
    }
   ],
   "source": [
    "reviews.dtypes"
   ]
  },
  {
   "cell_type": "code",
   "execution_count": 11,
   "metadata": {},
   "outputs": [
    {
     "data": {
      "text/html": [
       "<div>\n",
       "<style scoped>\n",
       "    .dataframe tbody tr th:only-of-type {\n",
       "        vertical-align: middle;\n",
       "    }\n",
       "\n",
       "    .dataframe tbody tr th {\n",
       "        vertical-align: top;\n",
       "    }\n",
       "\n",
       "    .dataframe thead th {\n",
       "        text-align: right;\n",
       "    }\n",
       "</style>\n",
       "<table border=\"1\" class=\"dataframe\">\n",
       "  <thead>\n",
       "    <tr style=\"text-align: right;\">\n",
       "      <th></th>\n",
       "      <th>review_score</th>\n",
       "      <th>review_comment_title</th>\n",
       "      <th>review_comment_message</th>\n",
       "      <th>review_creation_date</th>\n",
       "      <th>review_answer_timestamp</th>\n",
       "    </tr>\n",
       "  </thead>\n",
       "  <tbody>\n",
       "    <tr>\n",
       "      <th>9</th>\n",
       "      <td>4</td>\n",
       "      <td>recomendo</td>\n",
       "      <td>aparelho eficiente. no site a marca do aparelho esta impresso como 3desinfector e ao chegar esta com outro nome...atualizar com a marca correta uma vez que é o mesmo aparelho</td>\n",
       "      <td>2018-05-22 00:00:00</td>\n",
       "      <td>2018-05-23 16:45:47</td>\n",
       "    </tr>\n",
       "    <tr>\n",
       "      <th>15</th>\n",
       "      <td>5</td>\n",
       "      <td>Super recomendo</td>\n",
       "      <td>Vendedor confiável, produto ok e entrega antes do prazo.</td>\n",
       "      <td>2018-05-23 00:00:00</td>\n",
       "      <td>2018-05-24 03:00:01</td>\n",
       "    </tr>\n",
       "    <tr>\n",
       "      <th>19</th>\n",
       "      <td>1</td>\n",
       "      <td>Não chegou meu produto</td>\n",
       "      <td>Péssimo</td>\n",
       "      <td>2018-08-15 00:00:00</td>\n",
       "      <td>2018-08-15 04:10:37</td>\n",
       "    </tr>\n",
       "    <tr>\n",
       "      <th>22</th>\n",
       "      <td>5</td>\n",
       "      <td>Ótimo</td>\n",
       "      <td>Loja nota 10</td>\n",
       "      <td>2018-07-10 00:00:00</td>\n",
       "      <td>2018-07-11 14:10:25</td>\n",
       "    </tr>\n",
       "    <tr>\n",
       "      <th>34</th>\n",
       "      <td>4</td>\n",
       "      <td>Muito bom.</td>\n",
       "      <td>Recebi exatamente o que esperava. As demais encomendas de outros vendedores atrasaram, mas esta chegou no prazo.</td>\n",
       "      <td>2018-06-07 00:00:00</td>\n",
       "      <td>2018-06-09 18:44:02</td>\n",
       "    </tr>\n",
       "  </tbody>\n",
       "</table>\n",
       "</div>"
      ],
      "text/plain": [
       "    review_score     review_comment_title  \\\n",
       "9              4                recomendo   \n",
       "15             5          Super recomendo   \n",
       "19             1  Não chegou meu produto    \n",
       "22             5                    Ótimo   \n",
       "34             4               Muito bom.   \n",
       "\n",
       "                                                                                                                                                            review_comment_message  \\\n",
       "9   aparelho eficiente. no site a marca do aparelho esta impresso como 3desinfector e ao chegar esta com outro nome...atualizar com a marca correta uma vez que é o mesmo aparelho   \n",
       "15                                                                                                                        Vendedor confiável, produto ok e entrega antes do prazo.   \n",
       "19                                                                                                                                                                         Péssimo   \n",
       "22                                                                                                                                                                    Loja nota 10   \n",
       "34                                                                Recebi exatamente o que esperava. As demais encomendas de outros vendedores atrasaram, mas esta chegou no prazo.   \n",
       "\n",
       "   review_creation_date review_answer_timestamp  \n",
       "9   2018-05-22 00:00:00     2018-05-23 16:45:47  \n",
       "15  2018-05-23 00:00:00     2018-05-24 03:00:01  \n",
       "19  2018-08-15 00:00:00     2018-08-15 04:10:37  \n",
       "22  2018-07-10 00:00:00     2018-07-11 14:10:25  \n",
       "34  2018-06-07 00:00:00     2018-06-09 18:44:02  "
      ]
     },
     "execution_count": 11,
     "metadata": {},
     "output_type": "execute_result"
    }
   ],
   "source": [
    "reviews.head()"
   ]
  },
  {
   "cell_type": "raw",
   "metadata": {},
   "source": [
    "I want to calculate the gap between 'review_creation_date' and 'review_answer_timestamp' to see their respond time.\n",
    "And I think there might be some correlation between satisfaction and review respond time."
   ]
  },
  {
   "cell_type": "code",
   "execution_count": 28,
   "metadata": {},
   "outputs": [],
   "source": [
    "reviews.review_creation_date = pd.to_datetime(reviews.review_creation_date)\n",
    "reviews.review_answer_timestamp = pd.to_datetime(reviews.review_answer_timestamp)\n",
    "reviews['respond_time'] = (reviews.review_answer_timestamp - reviews.review_creation_date)                           "
   ]
  },
  {
   "cell_type": "code",
   "execution_count": 30,
   "metadata": {},
   "outputs": [
    {
     "data": {
      "text/plain": [
       "count                       9944\n",
       "mean      3 days 13:51:21.910901\n",
       "std      12 days 00:26:42.135061\n",
       "min              0 days 03:11:11\n",
       "25%       0 days 23:54:49.500000\n",
       "50%       1 days 17:39:33.500000\n",
       "75%       3 days 09:23:05.250000\n",
       "max            411 days 10:39:13\n",
       "Name: respond_time, dtype: object"
      ]
     },
     "execution_count": 30,
     "metadata": {},
     "output_type": "execute_result"
    }
   ],
   "source": [
    "reviews.respond_time.describe()"
   ]
  },
  {
   "cell_type": "raw",
   "metadata": {},
   "source": [
    "we can see that the shortest respond time is 3:11:11, longest is 411 days 10:39:13,\n",
    "Q1:0 days 23:54:49.50,Q2:1 days 17:39:33.50,Q3:3 days 09:23:05.25\n",
    "Anyway, time respond is not so correlated with our first question. \n",
    "Let's continue"
   ]
  },
  {
   "cell_type": "code",
   "execution_count": 52,
   "metadata": {},
   "outputs": [
    {
     "data": {
      "text/plain": [
       "81360    super recomendo\n",
       "90240    Entrega rápida \n",
       "57361          Excelente\n",
       "34198          Recomendo\n",
       "90329          excelente\n",
       "39337              otimo\n",
       "87598         Lindíssimo\n",
       "11870          Recomendo\n",
       "48515             Ótimo \n",
       "88275          Recomendo\n",
       "Name: review_comment_title, dtype: object"
      ]
     },
     "execution_count": 52,
     "metadata": {},
     "output_type": "execute_result"
    }
   ],
   "source": [
    "# let's take a sample of comment title with all the customers give 5 score(our happy customers)\n",
    "reviews.groupby('review_score')['review_comment_title'].get_group(5).sample(10)"
   ]
  },
  {
   "cell_type": "code",
   "execution_count": 53,
   "metadata": {},
   "outputs": [
    {
     "data": {
      "text/plain": [
       "59964    nao recebi o produto\n",
       "89802     Produto veio errado\n",
       "31103    Produto não entregue\n",
       "65525     Produto com defeito\n",
       "23992            NAO ENTREGUE\n",
       "74183            Produto ruim\n",
       "85813    Nem NF foi emitida!!\n",
       "33813       QUERO MEU PRODUTO\n",
       "65135     Cancelaram a compra\n",
       "68541             Não gostei.\n",
       "Name: review_comment_title, dtype: object"
      ]
     },
     "execution_count": 53,
     "metadata": {},
     "output_type": "execute_result"
    }
   ],
   "source": [
    "# let's also take a sample of 10 of the unhappy customers who give 1 score\n",
    "reviews.groupby('review_score')['review_comment_title'].get_group(1).sample(10)"
   ]
  },
  {
   "cell_type": "raw",
   "metadata": {},
   "source": [
    "Since I don’t understand Portuguese，I use google translator to get a common sense of the title meanings.\n",
    "We can see that those 5 score customer give 'recomendo'/'Excelente'/'Ótimo ' which means excellent;\n",
    "The title of 1 score:\n",
    "    'nao recebi o produto/NAO ENTREGUE':don't receive the item\n",
    "    'Produto veio errado/Produto com defeito/Produto ruim': item got quality problems\n",
    "    'Nem NF foi emitida!!': the item doesn't even been shipped\n",
    "    'Cancelaram a compra':order canceled\n",
    "To sum up above, we know that 5 score review customers give good comments, but 1 score customers have different reasons to give bad reviews.\n",
    "But we still don't know why they are happy with their purchase"
   ]
  },
  {
   "cell_type": "raw",
   "metadata": {},
   "source": [
    "Thus we come to analyze the comment messages from those customers"
   ]
  },
  {
   "cell_type": "code",
   "execution_count": 55,
   "metadata": {},
   "outputs": [
    {
     "data": {
      "text/plain": [
       "96191                                                               Eu só compro neste site tenho segurança ok\n",
       "78011                                                                                               Satisfação\n",
       "51262                                 Muito bom! Compra tranquila, Entrega super rápida. Recomendo para todos!\n",
       "15126                                                                                              Muito bom. \n",
       "97769                                                                                      Tecnologia japonesa\n",
       "92847                                                                 Entregaram antes do prazo estipulado....\n",
       "61405                                                     Produto de ótima qualidade chegou bem antes do prazo\n",
       "10881                                                                                                   Ótimo \n",
       "40697                                                   muito bem foi entregue antes da data estão de parabens\n",
       "97941    Rapida entrega, mesmo sem gqsolina nos postos, recomendo 100%, continuem assim pois estao de parabens\n",
       "Name: review_comment_message, dtype: object"
      ]
     },
     "execution_count": 55,
     "metadata": {},
     "output_type": "execute_result"
    }
   ],
   "source": [
    "reviews.groupby('review_score')['review_comment_message'].get_group(5).sample(10)"
   ]
  },
  {
   "cell_type": "raw",
   "metadata": {},
   "source": [
    "we can see from happy customers who give 5 score(why they are happy),\n",
    "1.'Eu só compro neste site tenho segurança ok': they feel secure when they purchase online\n",
    "2.'Muito bom! Compra tranquila, Entrega super rápida. Recomendo para todos!': quick delievery \n",
    "3.'Tecnologia japonesa': prefer japanses technology\n",
    "3.'Entregaram antes do prazo estipulado': delievered before expire date\n",
    "4.'Produto de ótima qualidade chegou bem antes do prazo':good quality item and arrived before expected date\n",
    "6.'muito bem foi entregue antes da data estão de parabens': get the item before his/her congratulation date\n",
    "7.'Rapida entrega, mesmo sem gqsolina nos postos, recomendo 100%, continuem assim pois estao de parabens': delievered in time even when the shipping cars with no gasoline(I guess?)\n",
    "\n",
    "Almost all the sample customers think that the delievery service is good with good quality!"
   ]
  },
  {
   "cell_type": "code",
   "execution_count": 56,
   "metadata": {},
   "outputs": [
    {
     "data": {
      "text/plain": [
       "39468                                                                                                                                        Não recebi o produto nem retorno do questionamento sobre o mesmo...\n",
       "86261                                                                                                                          Não foi o produto que comprei pelas lannister, recebi duas extensões de cabo HDI.\n",
       "73866    Bem comprei esse quadro pela targaryen,e solicitei troca imediatamente,quadro parecido com o do anúncio no entanto apresenta impressão sem qualidade,sem foco imagem trêmula,o material da tela terr...\n",
       "34891                     Fiquei muito triste pq pedi um relógio, não tinha cancelei meu pedido e mesmo assim mandaram outro.Detalhe já tinha dito que não queria outro modelo,resumindo pedi extorno de cartão.\n",
       "3339                                                                                                                                                Produto não funciona aparentemente o produto não é original.\n",
       "52466                                                                                                                                                                                    nao recebi minha compra\n",
       "63390                                                                                       Péssimo atendimento. Nao me deram nem explicações para este 1 MÊS de atraso. Nunca mais faço compras pela lannister.\n",
       "72899    Está mercadoria foi pedida duas vezes por engano. Pedi o cancelamento de um deles, porém não foi efetivado e não me deram resposta. Resultado estou com 6 peças idênticas do produto.\\r\\nFiquei indi...\n",
       "28009                                                  O PRODUTO VEIO COM DEFEITO E NÃO ME DEVOLVEM O DINHEIRO. CANCELEI O PEDIDO, DEPOIS DO RECEIBIMENTO, DENTRO DOS 2 DIAS UTEIS E ATÉ AGORA NÃO FUI ATENDIDO.\n",
       "68609                                                                                                                                                                                 O produto ainda não chegou\n",
       "Name: review_comment_message, dtype: object"
      ]
     },
     "execution_count": 56,
     "metadata": {},
     "output_type": "execute_result"
    }
   ],
   "source": [
    "reviews.groupby('review_score')['review_comment_message'].get_group(1).sample(10)"
   ]
  },
  {
   "cell_type": "raw",
   "metadata": {},
   "source": [
    "we can see from unsatisfied customers who give 1 score(why they are dissatisfied),\n",
    "1.'Não recebi o produto nem retorno do questionamento sobre o mesmo': don't get the item\n",
    "2.'Não recebi o produto nem retorno do questionamento sobre o mesmo':don't get what he/she wants, get sth else\n",
    "3.'Bem comprei esse quadro pela targaryen,e solicitei troca imediatamente,quadro parecido com o do anúncio no entanto apresenta impressão sem qualidade,sem foco imagem trêmula,o material da tela terr':\n",
    "    the item's quality is not good(I guess?)\n",
    "4.'Fiquei muito triste pq pedi um relógio, não tinha cancelei meu pedido e mesmo assim mandaram outro.Detalhe já tinha dito que não queria outro modelo,resumindo pedi extorno de cartão':\n",
    "    feel sad since he/she wants to cancel the order, but the item still been shipped\n",
    "5.'Produto não funciona aparentemente o produto não é original': can't work properly,not original\n",
    "6.'nao recebi minha compra':don't receive the item\n",
    "7.'Péssimo atendimento. Nao me deram nem explicações para este 1 MÊS de atraso. Nunca mais faço compras pela lannister':service is not good,since he/she get the item 1 month late and get no explanations.\n",
    "8.'Está mercadoria foi pedida duas vezes por engano. Pedi o cancelamento de um deles, porém não foi efetivado e não me deram resposta. Resultado estou com 6 peças idênticas do produto':\n",
    "    make wrong orders but cannot cancel them\n",
    "9.' O PRODUTO VEIO COM DEFEITO E NÃO ME DEVOLVEM O DINHEIRO. CANCELEI O PEDIDO, DEPOIS DO RECEIBIMENTO, DENTRO DOS 2 DIAS UTEIS E ATÉ AGORA NÃO FUI ATENDIDO':\n",
    "    defective item, make return request with no acception\n",
    "10.'produto ainda não chegou':don't receive the itme    \n",
    "\n",
    "To sum up, unsatisfied customer who give 1 score got situation like:don't receive item,can't cancel wrong orders,want to return item with no acception, bad quality."
   ]
  },
  {
   "cell_type": "raw",
   "metadata": {},
   "source": [
    "To get a even broad view,\n",
    "We can extract key words from their comment messages to get a statistical view."
   ]
  },
  {
   "cell_type": "code",
   "execution_count": null,
   "metadata": {},
   "outputs": [],
   "source": []
  }
 ],
 "metadata": {
  "kernelspec": {
   "display_name": "Python 3",
   "language": "python",
   "name": "python3"
  },
  "language_info": {
   "codemirror_mode": {
    "name": "ipython",
    "version": 3
   },
   "file_extension": ".py",
   "mimetype": "text/x-python",
   "name": "python",
   "nbconvert_exporter": "python",
   "pygments_lexer": "ipython3",
   "version": "3.7.3"
  }
 },
 "nbformat": 4,
 "nbformat_minor": 2
}
